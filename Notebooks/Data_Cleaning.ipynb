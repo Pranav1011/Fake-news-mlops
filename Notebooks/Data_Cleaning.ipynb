{
 "cells": [
  {
   "cell_type": "code",
   "execution_count": 5,
   "id": "7efcb7c4-9430-4828-bf5e-a8d33fd110aa",
   "metadata": {},
   "outputs": [],
   "source": [
    "import pandas as pd\n",
    "from sklearn.utils import shuffle\n",
    "from sklearn.model_selection import train_test_split\n",
    "import boto3"
   ]
  },
  {
   "cell_type": "code",
   "execution_count": 6,
   "id": "a7b91192-d220-4e19-b4c0-98be8506c2fe",
   "metadata": {},
   "outputs": [],
   "source": [
    "bucket = 'fake-news-pranav'\n",
    "prefix = 'data/raw/'"
   ]
  },
  {
   "cell_type": "code",
   "execution_count": 7,
   "id": "e56e7cea-e538-43a1-b851-d424f78490dd",
   "metadata": {},
   "outputs": [],
   "source": [
    "s3 = boto3.client('s3')\n",
    "s3.download_file(bucket, f'{prefix}Fake.csv', 'Fake.csv')\n",
    "s3.download_file(bucket, f'{prefix}True.csv', 'True.csv')"
   ]
  },
  {
   "cell_type": "code",
   "execution_count": 8,
   "id": "96b3f149-a0eb-49c1-bd36-0e32aee4cd0b",
   "metadata": {},
   "outputs": [],
   "source": [
    "fake = pd.read_csv('Fake.csv')\n",
    "true = pd.read_csv('True.csv')"
   ]
  },
  {
   "cell_type": "code",
   "execution_count": 9,
   "id": "52ea03b3-08c5-4ee1-9407-e372138460aa",
   "metadata": {},
   "outputs": [],
   "source": [
    "fake['label'] = 0\n",
    "true['label'] = 1"
   ]
  },
  {
   "cell_type": "code",
   "execution_count": 10,
   "id": "1ad28d93-9232-45fa-9321-9ac3d1b0afda",
   "metadata": {},
   "outputs": [],
   "source": [
    "df = pd.concat([fake, true])\n",
    "df = shuffle(df, random_state=42).reset_index(drop=True)"
   ]
  },
  {
   "cell_type": "code",
   "execution_count": 11,
   "id": "1f610a66-1545-4fe3-b834-21475fc8a96c",
   "metadata": {},
   "outputs": [],
   "source": [
    "if 'date' in df.columns:\n",
    "    df = df.drop(columns=['date'])"
   ]
  },
  {
   "cell_type": "code",
   "execution_count": 12,
   "id": "29529359-5b52-4d5f-9a83-a5e7ae7f92a4",
   "metadata": {},
   "outputs": [],
   "source": [
    "train_df, temp_df = train_test_split(df, test_size=0.3, random_state=42, stratify=df['label'])\n",
    "val_df, test_df = train_test_split(temp_df, test_size=0.5, random_state=42, stratify=temp_df['label'])"
   ]
  },
  {
   "cell_type": "code",
   "execution_count": 13,
   "id": "44a9c22d-2f95-4a4b-aa6d-acb93258633f",
   "metadata": {},
   "outputs": [
    {
     "name": "stdout",
     "output_type": "stream",
     "text": [
      "Files created: train.csv, val.csv, test.csv\n"
     ]
    }
   ],
   "source": [
    "train_df.to_csv('train.csv', index=False)\n",
    "val_df.to_csv('val.csv', index=False)\n",
    "test_df.to_csv('test.csv', index=False)\n",
    "\n",
    "print(\"Files created: train.csv, val.csv, test.csv\")"
   ]
  },
  {
   "cell_type": "code",
   "execution_count": 14,
   "id": "9ecb2099-9c1f-40e1-88ce-10ec2f6601c7",
   "metadata": {},
   "outputs": [
    {
     "name": "stdout",
     "output_type": "stream",
     "text": [
      "Uploaded train.csv to s3://fake-news-pranav/data/processed/\n",
      "Uploaded val.csv to s3://fake-news-pranav/data/processed/\n",
      "Uploaded test.csv to s3://fake-news-pranav/data/processed/\n"
     ]
    }
   ],
   "source": [
    "processed_prefix = 'data/processed/'\n",
    "\n",
    "for file in ['train.csv', 'val.csv', 'test.csv']:\n",
    "    s3.upload_file(file, bucket, f'{processed_prefix}{file}')\n",
    "    print(f'Uploaded {file} to s3://{bucket}/{processed_prefix}')"
   ]
  }
 ],
 "metadata": {
  "kernelspec": {
   "display_name": "Python 3 (ipykernel)",
   "language": "python",
   "name": "python3"
  },
  "language_info": {
   "codemirror_mode": {
    "name": "ipython",
    "version": 3
   },
   "file_extension": ".py",
   "mimetype": "text/x-python",
   "name": "python",
   "nbconvert_exporter": "python",
   "pygments_lexer": "ipython3",
   "version": "3.11.11"
  }
 },
 "nbformat": 4,
 "nbformat_minor": 5
}
