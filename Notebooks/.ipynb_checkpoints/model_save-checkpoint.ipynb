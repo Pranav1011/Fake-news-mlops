{
 "cells": [
  {
   "cell_type": "code",
   "execution_count": null,
   "id": "34c88357-b82f-44f8-a366-58d0f6fcc088",
   "metadata": {},
   "outputs": [],
   "source": [
    "import tarfile\n",
    "\n",
    "with tarfile.open(\"ml_model.tar.gz\", mode=\"w:gz\") as tar:\n",
    "    tar.add(\"ml_model.joblib\", arcname=\"ml_model.joblib\")\n"
   ]
  },
  {
   "cell_type": "code",
   "execution_count": 10,
   "id": "0c281c86-85cc-4afe-9e9a-6ab0610ab055",
   "metadata": {},
   "outputs": [],
   "source": [
    "s3 = boto3.client('s3')\n",
    "s3.upload_file('ml_model.tar.gz', 'fake-news-pranav', 'models/ml_model.tar.gz')"
   ]
  },
  {
   "cell_type": "code",
   "execution_count": 1,
   "id": "54eaca62-d769-4235-9e1b-f2b3d64b31fb",
   "metadata": {},
   "outputs": [
    {
     "name": "stdout",
     "output_type": "stream",
     "text": [
      "Model downloaded successfully.\n"
     ]
    }
   ],
   "source": [
    "import boto3\n",
    "\n",
    "# Initialize S3 client\n",
    "s3 = boto3.client('s3')\n",
    "\n",
    "# Specify bucket and key\n",
    "bucket_name = 'fake-news-pranav'\n",
    "model_key = 'models/sagemaker-scikit-learn-2025-04-08-17-15-56-603/output/model.tar.gz'\n",
    "\n",
    "# Download the model locally\n",
    "s3.download_file(bucket_name, model_key, 'model.tar.gz')\n",
    "print(\"Model downloaded successfully.\")"
   ]
  }
 ],
 "metadata": {
  "kernelspec": {
   "display_name": "Python 3 (ipykernel)",
   "language": "python",
   "name": "python3"
  },
  "language_info": {
   "codemirror_mode": {
    "name": "ipython",
    "version": 3
   },
   "file_extension": ".py",
   "mimetype": "text/x-python",
   "name": "python",
   "nbconvert_exporter": "python",
   "pygments_lexer": "ipython3",
   "version": "3.11.11"
  }
 },
 "nbformat": 4,
 "nbformat_minor": 5
}
