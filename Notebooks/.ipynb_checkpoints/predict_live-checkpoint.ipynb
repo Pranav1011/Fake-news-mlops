{
 "cells": [
  {
   "cell_type": "code",
   "execution_count": 4,
   "id": "52012c95-57f7-4904-b47c-1fa44af0e1d1",
   "metadata": {},
   "outputs": [],
   "source": [
    "import boto3\n",
    "import sagemaker\n",
    "from sagemaker.predictor import Predictor"
   ]
  },
  {
   "cell_type": "code",
   "execution_count": 5,
   "id": "b5f9ab37-5aa1-4cc8-be2b-d0d86978590d",
   "metadata": {},
   "outputs": [],
   "source": [
    "endpoint_name = 'fake-news-endpoint'\n",
    "predictor = Predictor(endpoint_name=endpoint_name, sagemaker_session=sagemaker.Session())"
   ]
  },
  {
   "cell_type": "code",
   "execution_count": 6,
   "id": "e3750ba4-aaf7-44e1-ac7e-7277ca254eb2",
   "metadata": {},
   "outputs": [
    {
     "name": "stdout",
     "output_type": "stream",
     "text": [
      "Prediction: 0 (1 = Real, 0 = Fake)\n"
     ]
    }
   ],
   "source": [
    "sample_text = \"NASA reveals new mission to Jupiter's moons.\"\n",
    "response = predictor.predict(sample_text, initial_args={\"ContentType\": \"text/csv\"})\n",
    "print(f\"Prediction: {response.decode()} (1 = Real, 0 = Fake)\")"
   ]
  }
 ],
 "metadata": {
  "kernelspec": {
   "display_name": "Python 3 (ipykernel)",
   "language": "python",
   "name": "python3"
  },
  "language_info": {
   "codemirror_mode": {
    "name": "ipython",
    "version": 3
   },
   "file_extension": ".py",
   "mimetype": "text/x-python",
   "name": "python",
   "nbconvert_exporter": "python",
   "pygments_lexer": "ipython3",
   "version": "3.11.11"
  }
 },
 "nbformat": 4,
 "nbformat_minor": 5
}
