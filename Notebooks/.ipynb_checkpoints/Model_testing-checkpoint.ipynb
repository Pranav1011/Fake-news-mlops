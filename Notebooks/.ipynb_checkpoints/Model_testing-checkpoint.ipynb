{
 "cells": [
  {
   "cell_type": "code",
   "execution_count": 1,
   "id": "ceab015f-af1b-4938-a3ea-a5ca73e64f8c",
   "metadata": {},
   "outputs": [],
   "source": [
    "import boto3\n",
    "import pandas as pd\n",
    "import joblib\n",
    "from sklearn.metrics import accuracy_score, log_loss, classification_report"
   ]
  },
  {
   "cell_type": "code",
   "execution_count": 2,
   "id": "a6918b98-9788-4f88-9a1d-1afba2b5eb49",
   "metadata": {},
   "outputs": [],
   "source": [
    "bucket = 'fake-news-pranav'\n",
    "s3 = boto3.client('s3')\n",
    "\n",
    "# Download model file\n",
    "s3.download_file(bucket, 'models/ml_model.joblib', 'ml_model.joblib')\n",
    "\n",
    "# Download test set\n",
    "s3.download_file(bucket, 'data/processed/test.csv', 'test.csv')"
   ]
  },
  {
   "cell_type": "code",
   "execution_count": 3,
   "id": "938b65d4-a852-4357-9cc6-eb6ac1c77c0a",
   "metadata": {},
   "outputs": [],
   "source": [
    "# Load model\n",
    "model = joblib.load('ml_model.joblib')\n",
    "\n",
    "# Load test data\n",
    "test_df = pd.read_csv('test.csv')"
   ]
  },
  {
   "cell_type": "code",
   "execution_count": 4,
   "id": "13747730-ac3b-4f06-b3eb-0e8aaeb3cd3f",
   "metadata": {},
   "outputs": [
    {
     "name": "stdout",
     "output_type": "stream",
     "text": [
      "✅ Test Accuracy: 0.9853\n",
      "📉 Test Log Loss: 0.0786\n",
      "\n",
      "📋 Classification Report:\n",
      "               precision    recall  f1-score   support\n",
      "\n",
      "           0       0.99      0.98      0.99      3523\n",
      "           1       0.98      0.99      0.98      3212\n",
      "\n",
      "    accuracy                           0.99      6735\n",
      "   macro avg       0.99      0.99      0.99      6735\n",
      "weighted avg       0.99      0.99      0.99      6735\n",
      "\n"
     ]
    }
   ],
   "source": [
    "# Predict class and probabilities\n",
    "y_true = test_df['label']\n",
    "y_pred = model.predict(test_df['text'])\n",
    "y_prob = model.predict_proba(test_df['text'])\n",
    "\n",
    "# Accuracy\n",
    "acc = accuracy_score(y_true, y_pred)\n",
    "\n",
    "# Log Loss\n",
    "loss = log_loss(y_true, y_prob)\n",
    "\n",
    "# Report\n",
    "print(f\"Test Accuracy: {acc:.4f}\")\n",
    "print(f\"Test Log Loss: {loss:.4f}\\n\")\n",
    "print(\"Classification Report:\\n\", classification_report(y_true, y_pred))"
   ]
  },
  {
   "cell_type": "code",
   "execution_count": null,
   "id": "1906eeaa-ca68-4cfe-8dd9-dc481f59fea2",
   "metadata": {},
   "outputs": [],
   "source": []
  }
 ],
 "metadata": {
  "kernelspec": {
   "display_name": "Python 3 (ipykernel)",
   "language": "python",
   "name": "python3"
  },
  "language_info": {
   "codemirror_mode": {
    "name": "ipython",
    "version": 3
   },
   "file_extension": ".py",
   "mimetype": "text/x-python",
   "name": "python",
   "nbconvert_exporter": "python",
   "pygments_lexer": "ipython3",
   "version": "3.11.11"
  }
 },
 "nbformat": 4,
 "nbformat_minor": 5
}
